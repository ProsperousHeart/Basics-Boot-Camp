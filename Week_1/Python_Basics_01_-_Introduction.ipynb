{
 "cells": [
  {
   "cell_type": "markdown",
   "metadata": {},
   "source": [
    "<a href='https://www.learntocodeonline.com/'><img src='https://github.com/ProsperousHeart/TrainingUsingJupyter/blob/master/IMGs/learn-to-code-online.png?raw=true'></a>"
   ]
  },
  {
   "cell_type": "markdown",
   "metadata": {},
   "source": [
    "# Welcome\n",
    "\n",
    "Thank you for being a participant in this python basics bootcamp.\n",
    "\n",
    "Software develoeprs are truly super heroes - just look at the technological advancements around you!\n",
    "\n",
    "Once you have the knowledge & resources to begin creating your own code, you are able to don the cape of a true hero ...\n",
    "\n",
    "Whether by automating tasks in your life to save you time, finding solutions with code in your job or place of business, or contributing to open source for higher good ... You are taking steps to become an incredible creator!\n",
    "\n",
    "Thank you again for allowing me to be a part of your journey.\n",
    "\n",
    "I'm really looking forward to seeing what you create!"
   ]
  },
  {
   "cell_type": "markdown",
   "metadata": {},
   "source": [
    "## Do You Need A Degree To Be A Scucessful Developer?\n",
    "\n",
    "Nope! And I did a quick video on the 5 reasons for & against getting a degree - including my take on if my degree was worth it below."
   ]
  },
  {
   "cell_type": "code",
   "execution_count": 8,
   "metadata": {},
   "outputs": [
    {
     "data": {
      "text/html": [
       "<iframe src=\"https://www.facebook.com/plugins/video.php?height=314&href=https%3A%2F%2Fwww.facebook.com%2FKitten4Him%2Fvideos%2F613908749722124%2F&show_text=false&width=560&t=0\" width=\"560\" height=\"314\" style=\"border:none;overflow:hidden\" scrolling=\"no\" frameborder=\"0\" allowfullscreen=\"true\" allow=\"autoplay; clipboard-write; encrypted-media; picture-in-picture; web-share\" allowFullScreen=\"true\"></iframe>"
      ],
      "text/plain": [
       "<IPython.core.display.HTML object>"
      ]
     },
     "execution_count": 8,
     "metadata": {},
     "output_type": "execute_result"
    }
   ],
   "source": [
    "# https://gist.github.com/christopherlovell/e3e70880c0b0ad666e7b5fe311320a62#file-display-py-L5\n",
    "from IPython.display import HTML\n",
    "\n",
    "# Youtube or Facebook embed\n",
    "HTML('<iframe src=\"https://www.facebook.com/plugins/video.php?height=314&href=https%3A%2F%2Fwww.facebook.com%2FKitten4Him%2Fvideos%2F613908749722124%2F&show_text=false&width=560&t=0\" width=\"560\" height=\"314\" style=\"border:none;overflow:hidden\" scrolling=\"no\" frameborder=\"0\" allowfullscreen=\"true\" allow=\"autoplay; clipboard-write; encrypted-media; picture-in-picture; web-share\" allowFullScreen=\"true\"></iframe>')"
   ]
  },
  {
   "cell_type": "markdown",
   "metadata": {},
   "source": [
    "# Python Introduction\n",
    "\n",
    "Your best resource will always be to [go to this documentation](https://docs.python.org/3/library/index.html) for the standard libraries of Python, and [this document for full documentation](https://docs.python.org/3/contents.html).\n",
    "\n",
    "## Major Benefits\n",
    "\n",
    "There are many benefits to using python. You can easily learn several other languages if you know this one, and there are many additional packages (\"upgrades\" if you will) that you can use on top of this in order to do a vast array of things.\n",
    "\n",
    "1. Python is called the programmer's \"beginner language\" yet still supports development of a wide range of applications. (Broad standard library!)<br>\n",
    "\n",
    "2. Each script (*.py* files) are processed at runtime (not pre-compiled) by an interpreter\n",
    "\n",
    "3. Python is interactive. You can directly interact with a prompt (an interpreter) to directly write your program.\n",
    "\n",
    "4. Easy to learn\n",
    "\n",
    "5. Easy to read\n",
    "\n",
    "6. Easy to maintain code\n",
    "\n",
    "7. Interfaces to all major databases\n",
    "\n",
    "8. Has ability to do GUI programming\n",
    "\n",
    "9. Automatic garbage collection\n",
    "\n",
    "10. Easily integrated with C, C++, COM, ActiveX, CORBA, & Java\n",
    "\n",
    "11. Optional use of __object-oriented programming__\n",
    "\n",
    "> **Object-Oriented Programming (OOP)** is a programming language model organized around _objects_ rather than \"Actions\", & data rather than logic. Historically, a program has been viewed as a logical procedure that takes input data, processes it, and produces output data."
   ]
  },
  {
   "cell_type": "code",
   "execution_count": 9,
   "metadata": {},
   "outputs": [
    {
     "data": {
      "text/html": [
       "<iframe src=\"https://www.facebook.com/plugins/video.php?height=314&href=https%3A%2F%2Fwww.facebook.com%2FKitten4Him%2Fvideos%2F1020859885154832%2F&show_text=false&width=560&t=0\" width=\"560\" height=\"314\" style=\"border:none;overflow:hidden\" scrolling=\"no\" frameborder=\"0\" allowfullscreen=\"true\" allow=\"autoplay; clipboard-write; encrypted-media; picture-in-picture; web-share\" allowFullScreen=\"true\"></iframe>"
      ],
      "text/plain": [
       "<IPython.core.display.HTML object>"
      ]
     },
     "execution_count": 9,
     "metadata": {},
     "output_type": "execute_result"
    }
   ],
   "source": [
    "# Youtube or Facebook embed\n",
    "HTML('<iframe src=\"https://www.facebook.com/plugins/video.php?height=314&href=https%3A%2F%2Fwww.facebook.com%2FKitten4Him%2Fvideos%2F1020859885154832%2F&show_text=false&width=560&t=0\" width=\"560\" height=\"314\" style=\"border:none;overflow:hidden\" scrolling=\"no\" frameborder=\"0\" allowfullscreen=\"true\" allow=\"autoplay; clipboard-write; encrypted-media; picture-in-picture; web-share\" allowFullScreen=\"true\"></iframe>')"
   ]
  },
  {
   "cell_type": "markdown",
   "metadata": {},
   "source": [
    "## Possible Libraries\n",
    "\n",
    "There are way more than what is listed here, but wanted to just share a few:\n",
    "- pandas\n",
    "- NumPy\n",
    "- Scipy\n",
    "- IPython\n",
    "- mathplotlib\n",
    "- Bokeh\n",
    "- tensorflow"
   ]
  },
  {
   "cell_type": "markdown",
   "metadata": {},
   "source": [
    "## Additional Free Resources To Learn Python\n",
    "\n",
    "### Websites\n",
    "\n",
    "This section is for free websites you can access to learn more, create more, and challenge yourself further.\n",
    "\n",
    "- __[TutorialsPoint](https://www.tutorialspoint.com/python/index.htm)__\n",
    "- __[SoloLearn.com](https://www.sololearn.com)__\n",
    "- __[LearnToCodeOnline.com](http://learntocodeonline.com)__: my free training site (at the moment points to my Facebook page)\n",
    "- __[edX](https://www.edx.org/)__:  online courses from the world's best institutions\n",
    "- __[DevNet](https://developer.cisco.com/)__:  Cisco certified training platform for development\n",
    "- __[ProgrammingHub.io](https://programminghub.io/)__:  interactive courses\n",
    "- __[Mimo](https://getmimo.com/)__:  this is NOT a free site, but does include app options\n",
    "- __[Enki](https://www.enki.com/)__:  this is NOT a free site, but does offer some interesting options\n",
    "- __[Codemurai](https://play.google.com/store/apps/details?id=com.zenva.codemurai&hl=en_US)__ (Android)\n",
    "- __[Grasshopper](https://grasshopper.app/)__:  free site to learn different programming skills\n",
    "- __[Tynker](https://www.tynker.com/)__:  coding for youth 5-18 years old starting around $9/month\n",
    "- __[Udacity](https://www.udacity.com/)__:  not all free but those options are available\n",
    "- __[CodeHub](https://codehubplatform.github.io/)__:  available on Android as well\n",
    "- __[CodeCademy](https://www.codecademy.com/)__:  not completely free\n",
    "\n",
    "### Apps For Your Phone\n",
    "\n",
    "The following apps are available for your phone:\n",
    "\n",
    "- SoloLearn is also on __[Android](https://play.google.com/store/apps/details?id=com.sololearn)__ and __[iOS](https://itunes.apple.com/us/app/sololearn-learn-to-code/id1210079064?mt=8)__\n",
    "- [ProgrammingHub.io](https://programminghub.io/) is also on __[Android](https://play.google.com/store/apps/details?id=com.freeit.java&hl=en_IN)__ and __[iOS](https://apps.apple.com/in/app/programming-hub-learn-to-code/id1049691226)__\n",
    "- [Encode for Android](https://upskew.com/encode-android/) and [Encode for IOS](https://upskew.com/encode-ios/)\n",
    "- __[EasyCoder.io](http://www.easycoder.io/)__\n",
    "- __[Khan Academy](https://play.google.com/store/apps/details?id=org.khanacademy.android&hl=en)__ for Android\n",
    "- __[CodeCademy](https://www.codecademy.com/)__ also has [Android](https://play.google.com/store/apps/details) and [IOS](https://itunes.apple.com/us/app/codecademy-pro/id1376029326) apps\n",
    "- __[lightbot](https://lightbot.com/)__:  apps meant for kids!"
   ]
  },
  {
   "cell_type": "markdown",
   "metadata": {},
   "source": [
    "## Paid Resources To Learn Python\n",
    "\n",
    "This section may contain links to affiliate products. If they are an affiliate product, I will earn a portion of what you purchase. If they are not, all proceeds go to wherever the site says it does.\n",
    "\n",
    "- __[HumbleBundle.com](https://www.humblebundle.com)__:  this website is AMAZING! It is not an affiliate product (so far as I know), and the higher you donate (yes donate) the more stuff you get! Not only that, but you also get to choose where the funds go. All to the charity of choice? All to the creators of the products you receive? You decide!"
   ]
  },
  {
   "cell_type": "markdown",
   "metadata": {},
   "source": [
    "# Environment Setup\n",
    "\n",
    "Just like with everything else in life, there are several different ways with which you can set up your environment. Whether via your PC, Mac, or a Virtual Machine - there's a flavor of python for everyone!\n",
    "\n",
    "I personally use a PC and have used a Virtual Machine before. At this time, if your preferred method is not shown here in this Jupyter notebook? There's a great tutorial & additional information located __[here on TutorialsPoint](http://www.tutorialspoint.com/python/python_environment.htm)__!\n",
    "\n",
    "\n",
    "## \"Do I Already Have Python Installed?\"\n",
    "\n",
    "The way to test this is to open a terminal window (command prompt) and type: `python`\n",
    "\n",
    "If it's installed you may see something like this:\n",
    "\n",
    "```\n",
    "C:\\Users\\Kat>python\n",
    "Python 3.6.5 (v3.6.5:f59c0932b4, Mar 28 2018, 16:07:46) [MSC v.1900 32 bit (Intel)] on win32\n",
    "Type \"help\", \"copyright\", \"credits\" or \"license\" for more information.\n",
    ">>>\n",
    "```\n",
    "\n",
    "If this is the case and you're ready to exit, simply input: `exit()`"
   ]
  },
  {
   "cell_type": "markdown",
   "metadata": {},
   "source": [
    "## Get & Install Python\n",
    "\n",
    "The most up to date & current source code, binaries, documentation, news, and all that jazz is found on the official __[Python website](https://www.python.org)__ with the documentation available in HTML, PDF, or PostScript format __[here](https://www.python.org/doc/)__.\n",
    "\n",
    "For Unix, Linux, or Mac installation, please review the TutorialsPoint doc or Python website.\n",
    "\n",
    "For Windows, once you have downloaded the MSI file, simply accept the defaults for installation wizard."
   ]
  },
  {
   "cell_type": "code",
   "execution_count": 11,
   "metadata": {},
   "outputs": [
    {
     "data": {
      "text/html": [
       "<iframe src=\"https://www.facebook.com/plugins/video.php?height=314&href=https%3A%2F%2Fwww.facebook.com%2FKitten4Him%2Fvideos%2F444644040327688%2F&show_text=false&width=560&t=0\" width=\"560\" height=\"314\" style=\"border:none;overflow:hidden\" scrolling=\"no\" frameborder=\"0\" allowfullscreen=\"true\" allow=\"autoplay; clipboard-write; encrypted-media; picture-in-picture; web-share\" allowFullScreen=\"true\"></iframe>"
      ],
      "text/plain": [
       "<IPython.core.display.HTML object>"
      ]
     },
     "execution_count": 11,
     "metadata": {},
     "output_type": "execute_result"
    }
   ],
   "source": [
    "# Youtube or Facebook embed\n",
    "HTML('<iframe src=\"https://www.facebook.com/plugins/video.php?height=314&href=https%3A%2F%2Fwww.facebook.com%2FKitten4Him%2Fvideos%2F444644040327688%2F&show_text=false&width=560&t=0\" width=\"560\" height=\"314\" style=\"border:none;overflow:hidden\" scrolling=\"no\" frameborder=\"0\" allowfullscreen=\"true\" allow=\"autoplay; clipboard-write; encrypted-media; picture-in-picture; web-share\" allowFullScreen=\"true\"></iframe>')"
   ]
  },
  {
   "cell_type": "markdown",
   "metadata": {},
   "source": [
    "### Setting Up PATH\n",
    "\n",
    "If you haven't already, be sure to check out [this cheatsheet](https://github.com/ProsperousHeart/cheatsheets/blob/master/Processes/SetEnvVars.md) I created on setting your environment variables."
   ]
  },
  {
   "cell_type": "markdown",
   "metadata": {},
   "source": [
    "## Anaconda\n",
    "\n",
    "I also installed __[Anaconda](https://anaconda.org)__ as part of a training I was following ...\n",
    "You can also do conda (a smaller version of anaconda).\n",
    "\n",
    "However unless I'm using a [virtual environment](https://github.com/ProsperousHeart/cheatsheets/blob/master/Tools/VirtualEnvironments.md), I use the full anaconda.\n",
    "\n",
    "**__NOTE__:** In this bootcamp, we will NOT be using Anaconda.\n",
    "\n",
    "### More On Virtual Environments\n",
    "\n",
    "I love virutal environments! In fact, I have a couple of sites for you.\n",
    "\n",
    "- [here](https://github.com/ProsperousHeart/cheatsheets/blob/master/Tools/VirtualEnvironments.md) is my cheat sheet on virtual environments (I personally use virtualenv and virtualenvwrapper-win)\n",
    "\n",
    "- [here](https://github.com/ProsperousHeart/cheatsheets/blob/master/Processes/virtualenvs.md) is my cheatsheet for the process used to create and manage virtualenv environments\n",
    "\n",
    "- [here](https://github.com/ProsperousHeart/cheatsheets/blob/master/Processes/SetEnvVars.md) is my cheatsheet for setting your environment variables"
   ]
  },
  {
   "cell_type": "markdown",
   "metadata": {},
   "source": [
    "# Running Python\n",
    "\n",
    "Speaking from Windows here ...\n",
    "\n",
    "## Python Interpreter\n",
    "\n",
    "You can run this from any folder:  `python`\n",
    "\n",
    "As you saw above, if installed and working you can begin programming immediately.\n",
    "\n",
    "You can also create a **.py** file using the interpreter ... I just haven't, so please Google it if interested.\n",
    "\n",
    "## Running A Python (.py) Program\n",
    "\n",
    "Use `cd` to change directory into the folder you want to run a Python file.\n",
    "\n",
    "Type `python FILENAME.py` to run your python program **FILENAME** from your command prompt."
   ]
  },
  {
   "cell_type": "code",
   "execution_count": null,
   "metadata": {},
   "outputs": [],
   "source": []
  }
 ],
 "metadata": {
  "kernelspec": {
   "display_name": "Python 3",
   "language": "python",
   "name": "python3"
  },
  "language_info": {
   "codemirror_mode": {
    "name": "ipython",
    "version": 3
   },
   "file_extension": ".py",
   "mimetype": "text/x-python",
   "name": "python",
   "nbconvert_exporter": "python",
   "pygments_lexer": "ipython3",
   "version": "3.6.5"
  }
 },
 "nbformat": 4,
 "nbformat_minor": 2
}
