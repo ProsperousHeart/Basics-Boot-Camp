{
 "cells": [
  {
   "cell_type": "markdown",
   "metadata": {},
   "source": [
    "<a href='https://www.learntocodeonline.com/'><img src='https://github.com/ProsperousHeart/TrainingUsingJupyter/blob/master/IMGs/learn-to-code-online.png?raw=true'></a>"
   ]
  },
  {
   "cell_type": "markdown",
   "metadata": {},
   "source": [
    "_Need to go back to Week 1?_ Click **[here](../Week_1)**!"
   ]
  },
  {
   "cell_type": "markdown",
   "metadata": {},
   "source": [
    "# Variable Type:  [Numbers](https://docs.python.org/3/library/numbers.html)\n",
    "\n",
    "In python3 there are 3 main numerical types:\n",
    "- integer (int)\n",
    "- float (floating point real numbers)\n",
    "- complex (consists of ordered paid of real floating-point numbers denoted by `x +yj` where `x` & `y` are real numbers and `j` is the imaginary unit)\n",
    "\n",
    "The variable **long** is no longer in python3.\n",
    "\n",
    "For more complicated numbers, or for deeper information, please [see python documentation](https://docs.python.org/3/library/numbers.html) or even [PEP 3141](https://www.python.org/dev/peps/pep-3141/)."
   ]
  },
  {
   "cell_type": "markdown",
   "metadata": {},
   "source": [
    "---"
   ]
  },
  {
   "cell_type": "markdown",
   "metadata": {},
   "source": [
    "Please proceed to [Variable Type:  STRING](Python_Basics_08_-_Variable_Type_STRING.ipynb)"
   ]
  }
 ],
 "metadata": {
  "kernelspec": {
   "display_name": "Python 3",
   "language": "python",
   "name": "python3"
  },
  "language_info": {
   "codemirror_mode": {
    "name": "ipython",
    "version": 3
   },
   "file_extension": ".py",
   "mimetype": "text/x-python",
   "name": "python",
   "nbconvert_exporter": "python",
   "pygments_lexer": "ipython3",
   "version": "3.6.5"
  }
 },
 "nbformat": 4,
 "nbformat_minor": 2
}
