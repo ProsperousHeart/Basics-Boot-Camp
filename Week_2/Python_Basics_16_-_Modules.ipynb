{
 "cells": [
  {
   "cell_type": "markdown",
   "metadata": {},
   "source": [
    "<a href='https://www.learntocodeonline.com/'><img src=\"../IMGs/learn-to-code-online.png\"></a>"
   ]
  },
  {
   "cell_type": "markdown",
   "metadata": {},
   "source": [
    "# What Are [Modules](https://docs.python.org/3/tutorial/modules.html)?\n",
    "\n",
    "Modules allow you to logically organize your code and provide the ability to reuse it - thus:\n",
    "- minimizing the number of lines of code\n",
    "- creating additional opportunities for future reuse\n",
    "\n",
    "When you are grouping related pieces of code, you are also making it wasier to understand and use.\n",
    "\n",
    "Modules can define:\n",
    "- functions\n",
    "- classes\n",
    "- variables\n",
    "\n",
    "They can also be run & imported."
   ]
  },
  {
   "cell_type": "markdown",
   "metadata": {},
   "source": [
    "# Importing Modules\n",
    "\n",
    "There are 2 ways to import a module or set of modules:\n",
    "\n",
    "1. `import MODULENAME`\n",
    "\n",
    "2. `from MODULENAME import var1[, ..., varN]`\n",
    "\n",
    "The first [imports all](https://docs.python.org/3/tutorial/modules.html#importing-from-a-package) from a module."
   ]
  },
  {
   "cell_type": "markdown",
   "metadata": {},
   "source": [
    "## import\n",
    "\n",
    "You can use any python source file as a module using the **import** statement. (Only needs to be done once.)\n",
    "\n",
    "If present in the search path (list of directories) python interpreter can import."
   ]
  },
  {
   "cell_type": "markdown",
   "metadata": {},
   "source": [
    "### Example\n",
    "\n",
    "Assume we are in an empty folder with these two files ...\n",
    "\n",
    "1. support.py\n",
    "\n",
    "<div class=\"alert alert-warning\">\n",
    "\n",
    "```python\n",
    "# support.py\n",
    "def print_func(var):\n",
    "    print(\"Hello, {}!\".format(var))\n",
    "```\n",
    "</div>\n",
    "\n",
    "2. hello.py\n",
    "\n",
    "<div class=\"alert alert-warning\">\n",
    "\n",
    "```python\n",
    "# hello.py\n",
    "import support\n",
    "\n",
    "# call on function from imported file\n",
    "name = input(\"What is your name?\\t\")\n",
    "support.print_func(name)\n",
    "```\n",
    "</div>\n",
    "\n",
    "What do you expect will happen if you run **_hello.py_**?\n",
    "\n",
    "**NOTE:** This cannot be done in this single notebook."
   ]
  },
  {
   "cell_type": "markdown",
   "metadata": {},
   "source": [
    "## *from ... import* Statement\n",
    "\n",
    "If you only wish to import a specific variable or function, you can do so using the `from ... import ...` to import.\n",
    "\n",
    "The `from` statement allows you to import specific attributes instead of the whole module.\n",
    "\n",
    "If you put a `*` after *import* it will bring in everything ...\n",
    "But this is __not__ recommended! Here are a few reasons why:\n",
    "\n",
    "1. As per some of the answers on [this Stack Overflow question](https://stackoverflow.com/questions/2386714/why-is-import-bad) ...\n",
    "\n",
    "- puts a lot of stuff into your namespace\n",
    "- could shadow/overwrite other objects & you won't know\n",
    "- you don't know exactly what's being imported\n",
    "- can't easily find which module created something specific\n",
    "- [it breaks](https://stackoverflow.com/a/2454460/10474024)\n",
    "- causes poor unreadable code\n",
    "\n",
    "2. As that SO article stated as well as [this](https://pythonconquerstheuniverse.wordpress.com/2011/03/28/why-import-star-is-a-bad-idea/), you basically cripply a static code analyzer (like [pyflakes](https://pypi.org/project/pyflakes)) making static type checking impossible.\n",
    "\n",
    "3. According to the [Zen of Python](http://www.python.org/dev/peps/pep-0020) ... \"Explicit is better than implicit.\"\n",
    "\n",
    "4. What happens if modules change? You have no control over what is imported."
   ]
  },
  {
   "cell_type": "markdown",
   "metadata": {},
   "source": [
    "### Examples\n",
    "\n",
    "Imagine a python file ...\n",
    "\n",
    "<div class=\"alert alert-warning\">\n",
    "\n",
    "```python\n",
    "# fib.py\n",
    "def fib(num):\n",
    "    \"\"\"\"\"\"\n",
    "    result = []\n",
    "    num1, num2 = 0, 1\n",
    "    while num2 < num:\n",
    "        result.append(num2)\n",
    "        num1, num2 = num2, num1 + num2\n",
    "    return result\n",
    "```\n",
    "</div>\n",
    "\n",
    "Now image your interpreter ...\n",
    "\n",
    "`from fib import fib\n",
    "fib(100)`\n",
    "\n",
    "... what would be the outcome?"
   ]
  },
  {
   "cell_type": "markdown",
   "metadata": {},
   "source": [
    "## Difference Between IMPORT and FROM\n",
    "\n",
    "Python's **import** loads a python module into it's own namespace. In order to use the functions or attributes of that module, you will have to abide by `dot notation`:\n",
    "\n",
    "```python\n",
    "import feathers\n",
    "duster = feathers.ostrich(\"South Africa\")\n",
    "```\n",
    "\n",
    "Python's **from** loads a python module into the current namespace so that you can refer to it without the need to mention the name again.\n",
    "\n",
    "```python\n",
    "from feathers import *\n",
    "duster = ostrich(\"South Africa\")\n",
    "```\n",
    "\n",
    "... or ...\n",
    "\n",
    "```python\n",
    "from feathers import ostrich\n",
    "duster = ostrich(\"South Africa\")\n",
    "```"
   ]
  },
  {
   "cell_type": "markdown",
   "metadata": {},
   "source": [
    "## Pros & Cons\n",
    "\n",
    "**import _module_**\n",
    "- less maintenance of imports\n",
    "- can be tedious to type __module.foo__ but can get around this with `import module as mo` and `mo.foo`\n",
    "\n",
    "__from *module* import *item*__\n",
    "- less typing, more control over accessed items\n",
    "- to use a new item form the module must update import statement\n",
    "- less context (e.g. **ceil()** vs **math.ceil()**"
   ]
  },
  {
   "cell_type": "markdown",
   "metadata": {},
   "source": [
    "# Additional Notes & Resources\n",
    "\n",
    "Avoid using global variables - only use variables in the functions of the module.\n",
    "\n",
    "Remember - using `import *` can cause of lot of issues, which is why it is not suggested.\n",
    "\n",
    "Additional links:\n",
    "- [importing packages/modules of \"Sister packages\"](https://docs.python.org/3/tutorial/modules.html#intra-package-references) (files in the same folder structure)\n",
    "- [Programmings FAQs:  Modules](https://docs.python.org/3/faq/programming.html#modules)"
   ]
  },
  {
   "cell_type": "markdown",
   "metadata": {},
   "source": [
    "## How Do I Run A Python File As A Program?\n",
    "\n",
    "In order to allow the module to be run as a script or program, you must add in this function:\n",
    "\n",
    "```python\n",
    "if __name__ == \"__main__\":\n",
    "    # call whatever you need to here\n",
    "    pass\n",
    "```\n",
    "\n",
    "This is only run when the module is executed as the main file. If imported, it will **not** run."
   ]
  },
  {
   "cell_type": "code",
   "execution_count": 3,
   "metadata": {},
   "outputs": [
    {
     "data": {
      "text/html": [
       "<iframe width=\"560\" height=\"315\" src=\"https://www.youtube.com/embed/W1Ywl4_Gsiw\" title=\"YouTube video player\" frameborder=\"0\" allow=\"accelerometer; autoplay; clipboard-write; encrypted-media; gyroscope; picture-in-picture\" allowfullscreen></iframe>"
      ],
      "text/plain": [
       "<IPython.core.display.HTML object>"
      ]
     },
     "execution_count": 3,
     "metadata": {},
     "output_type": "execute_result"
    }
   ],
   "source": [
    "# https://gist.github.com/christopherlovell/e3e70880c0b0ad666e7b5fe311320a62#file-display-py-L5\n",
    "from IPython.display import HTML\n",
    "\n",
    "# Youtube or Facebook embed\n",
    "HTML('<iframe width=\"560\" height=\"315\" src=\"https://www.youtube.com/embed/W1Ywl4_Gsiw\" title=\"YouTube video player\" frameborder=\"0\" allow=\"accelerometer; autoplay; clipboard-write; encrypted-media; gyroscope; picture-in-picture\" allowfullscreen></iframe>')"
   ]
  }
 ],
 "metadata": {
  "kernelspec": {
   "display_name": "Python 3",
   "language": "python",
   "name": "python3"
  },
  "language_info": {
   "codemirror_mode": {
    "name": "ipython",
    "version": 3
   },
   "file_extension": ".py",
   "mimetype": "text/x-python",
   "name": "python",
   "nbconvert_exporter": "python",
   "pygments_lexer": "ipython3",
   "version": "3.6.5"
  }
 },
 "nbformat": 4,
 "nbformat_minor": 2
}
