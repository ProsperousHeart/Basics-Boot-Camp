{
 "cells": [
  {
   "cell_type": "markdown",
   "metadata": {},
   "source": [
    "<a href='https://www.learntocodeonline.com/'><img src=\"../IMGs/learn-to-code-online.png\"></a>"
   ]
  },
  {
   "cell_type": "markdown",
   "metadata": {},
   "source": [
    "# What Is [Scope](https://docs.python.org/3/tutorial/classes.html#python-scopes-and-namespaces)?\n",
    "\n",
    "**Scope** defines the set of rules which tell us how and where a variable or identifier can be searched - or the accessibility of an object. Depending upon when and where the identifier was instantiated (created) you may not have the ability to access it when you call it.\n",
    "\n",
    "This is because not all data or variables can be accessed from anywhere in the program.\n",
    "\n",
    "When you call a function for example, the variables brought inside are brought into scope of that function. (Also known as it's local namespace.) Python then makes an educated guess on whether they are local or global.\n",
    "\n",
    "*__NOTE:__ Unless explicitly stated, a value in a function is assumed to be local*\n",
    "\n",
    "<div class=\"alert alert-success\">\n",
    "<b>Try this!</b>\n",
    "\n",
    "```python\n",
    "money = 2000\n",
    "def AddMoney():\n",
    "    # uncomment the next line to fix the code\n",
    "    # global money\n",
    "    money = money + 1\n",
    "    # QUESTION:  what would happen if you passed it in?\n",
    "\n",
    "print(money)\n",
    "AddMoney()\n",
    "print(money)\n",
    "```\n",
    "</div>"
   ]
  },
  {
   "cell_type": "code",
   "execution_count": 4,
   "metadata": {},
   "outputs": [
    {
     "name": "stdout",
     "output_type": "stream",
     "text": [
      "2000\n",
      "2001\n",
      "2000\n"
     ]
    }
   ],
   "source": []
  },
  {
   "cell_type": "markdown",
   "metadata": {},
   "source": [
    "# Global vs Local Variables\n",
    "\n",
    "1. **local** - variables defined inside a function\n",
    "\n",
    "    These can only be accessed from within the function they are declared.\n",
    "    \n",
    "\n",
    "2. **global** - variables defined outside a function\n",
    "\n",
    "    These can be accessed throughout your program by ALL functions."
   ]
  },
  {
   "cell_type": "markdown",
   "metadata": {},
   "source": [
    "## Example\n",
    "\n",
    "How would you fix this program?\n",
    "\n",
    "<div class=\"alert alert-success\">\n",
    "\n",
    "```python\n",
    "total = 0      # this is a default \"global\" variable\n",
    "\n",
    "def sum(arg1, arg2):\n",
    "    \"\"\"Add both parameters and return calculation.\"\"\"\n",
    "    total = arg1 + arg2\n",
    "    print('Inside total:  {}'.format(total))\n",
    "    return total\n",
    "\n",
    "sum(10, 20)\n",
    "print('Outside total:  {}'.format(total))\n",
    "```\n",
    "</div>"
   ]
  },
  {
   "cell_type": "code",
   "execution_count": null,
   "metadata": {},
   "outputs": [],
   "source": []
  },
  {
   "cell_type": "markdown",
   "metadata": {},
   "source": [
    "In addition to **global** there is something call the **[nonlocal statement](https://docs.python.org/3/reference/simple_stmts.html#nonlocal)**. This is different in that instead of using variables that could potentially be used anywhere in the file, this only pulls into scope the nearest enclosing scope."
   ]
  },
  {
   "cell_type": "markdown",
   "metadata": {},
   "source": [
    "# Additional Notes & Resources\n",
    "\n",
    "Some key notes to keep in mind regarding global variables ...\n",
    "\n",
    "1. Using the **global** keyword should not be used, as functions are intended to be \"black boxes\" that interact with the \"outside world\" through inputs and outputs.\n",
    "\n",
    "2. Globals should **NEVER** change!\n",
    "\n",
    "3. Changing a global state makes it impossible to unit test code.\n",
    "\n",
    "4. If you change your globals, you can inadvertently create bugs in your code as well as incorrect calculations.\n",
    "\n",
    "5. when you create a variable within a function, you cannot access it outside that function\n",
    "\n",
    "6. you must be careful when passing information back and forth to avoid making changes to external variables within a function\n",
    "\n",
    "7. you can access variables created outside of your function by declaring **global** inside the function\n",
    "\n",
    "Here are some additional resources to help you understand this important aspect of functions:\n",
    "- [PEP 227](https://www.python.org/dev/peps/pep-0227/) - Statically Nested Scopes (written for version 2.1)\n",
    "- [PEP 3104](https://www.python.org/dev/peps/pep-3104/) - Access to Names in Outer Scopes (written for version 3.0) ... also known as the specification for the nonlocal statement\n",
    "- [Programming FAQ](https://docs.python.org/3/faq/programming.html)\n",
    "- [Python Scope & the LEGB Rule: Resolving Names in Your Code](https://realpython.com/python-scope-legb-rule/)"
   ]
  }
 ],
 "metadata": {
  "kernelspec": {
   "display_name": "Python 3",
   "language": "python",
   "name": "python3"
  },
  "language_info": {
   "codemirror_mode": {
    "name": "ipython",
    "version": 3
   },
   "file_extension": ".py",
   "mimetype": "text/x-python",
   "name": "python",
   "nbconvert_exporter": "python",
   "pygments_lexer": "ipython3",
   "version": "3.6.5"
  }
 },
 "nbformat": 4,
 "nbformat_minor": 2
}
